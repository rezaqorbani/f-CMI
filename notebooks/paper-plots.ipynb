{
 "cells": [
  {
   "cell_type": "code",
   "execution_count": 1,
   "id": "recovered-dinner",
   "metadata": {},
   "outputs": [],
   "source": [
    "%load_ext autoreload\n",
    "%autoreload 2"
   ]
  },
  {
   "cell_type": "code",
   "execution_count": 2,
   "id": "unexpected-portsmouth",
   "metadata": {},
   "outputs": [],
   "source": [
    "import os\n",
    "os.chdir('../')"
   ]
  },
  {
   "cell_type": "code",
   "execution_count": 3,
   "id": "bigger-monkey",
   "metadata": {},
   "outputs": [],
   "source": [
    "import pickle\n",
    "import numpy as np\n",
    "from nnlib.nnlib.visualizations import savefig\n",
    "from modules.plot_utils import plot_curve, plot_over_epochs, plot_over_n"
   ]
  },
  {
   "cell_type": "code",
   "execution_count": 4,
   "id": "tested-motivation",
   "metadata": {},
   "outputs": [],
   "source": [
    "%matplotlib notebook\n",
    "import matplotlib\n",
    "from matplotlib import pyplot as plt\n",
    "from nnlib.nnlib.matplotlib_utils import set_default_configs\n",
    "import seaborn\n",
    "set_default_configs(plt, seaborn)"
   ]
  },
  {
   "cell_type": "code",
   "execution_count": 5,
   "id": "indonesian-julian",
   "metadata": {},
   "outputs": [],
   "source": [
    "class NestedDict(dict):\n",
    "    def __missing__(self, key):\n",
    "        self[key] = type(self)()\n",
    "        return self[key]\n",
    "\n",
    "        "
   ]
  },
  {
   "cell_type": "markdown",
   "id": "bdca70d5",
   "metadata": {},
   "source": [
    "# Cats vs Dogs (standard, deterministic)"
   ]
  },
  {
   "cell_type": "code",
   "execution_count": null,
   "id": "9d9ac68a",
   "metadata": {},
   "outputs": [],
   "source": [
    "results_dir = \"results\"\n",
    "n_seeds = 5\n",
    "n_S_seeds = 30\n",
    "ns = [75, 150, 300, 600]\n",
    "epochs = np.arange(1, 11) * 20\n",
    "num_classes = 2"
   ]
  },
  {
   "cell_type": "code",
   "execution_count": null,
   "id": "2ce1555c",
   "metadata": {},
   "outputs": [],
   "source": [
    "exp_name = \"fcmi-cats-and-dogs-CNN-deterministic\"\n",
    "results_file_path = os.path.join(results_dir, exp_name, 'results.pkl')\n",
    "with open(results_file_path, 'rb') as f:\n",
    "    deterministic_results = pickle.load(f)\n",
    "\n",
    "fig, ax = plot_over_n(plt, deterministic_results, ns=ns, epoch=epochs[-1])\n",
    "savefig(fig, os.path.join(results_dir, exp_name, f'x=n-plot.pdf'))"
   ]
  }
 ],
 "metadata": {
  "kernelspec": {
   "display_name": "Python 3 (ipykernel)",
   "language": "python",
   "name": "python3"
  },
  "language_info": {
   "codemirror_mode": {
    "name": "ipython",
    "version": 3
   },
   "file_extension": ".py",
   "mimetype": "text/x-python",
   "name": "python",
   "nbconvert_exporter": "python",
   "pygments_lexer": "ipython3",
   "version": "3.9.5"
  }
 },
 "nbformat": 4,
 "nbformat_minor": 5
}
